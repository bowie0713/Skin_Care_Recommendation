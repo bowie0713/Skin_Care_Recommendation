{
 "cells": [
  {
   "cell_type": "code",
   "execution_count": 3,
   "metadata": {},
   "outputs": [],
   "source": [
    "import requests\n",
    "from bs4 import BeautifulSoup\n",
    "import pandas as pd\n",
    "import time"
   ]
  },
  {
   "cell_type": "code",
   "execution_count": 6,
   "metadata": {},
   "outputs": [],
   "source": [
    "# Base URL for Sephora's skincare - Cleansers category\n",
    "baseurl = \"https://www.sephora.com/shop/cleanser?currentPage={}\""
   ]
  },
  {
   "cell_type": "code",
   "execution_count": 7,
   "metadata": {},
   "outputs": [],
   "source": [
    "# Base URL for Sephora's skincare - Masks category\n",
    "baseurl_masks = \"https://www.sephora.com/shop/face-mask?currentPage={}\""
   ]
  },
  {
   "cell_type": "code",
   "execution_count": 8,
   "metadata": {},
   "outputs": [],
   "source": [
    "# Base URL for Sephora's skincare - Sunscreen category\n",
    "baseurl_sunscreen = \"https://www.sephora.com/shop/sunscreen-sun-protection?currentPage={}\""
   ]
  },
  {
   "cell_type": "code",
   "execution_count": 9,
   "metadata": {},
   "outputs": [],
   "source": [
    "# Base URL for Sephora's skincare - Moisturizer category\n",
    "baseurl_moisturizers = \"https://www.sephora.com/shop/moisturizing-cream-oils-mists?currentPage={}\""
   ]
  },
  {
   "cell_type": "code",
   "execution_count": 11,
   "metadata": {},
   "outputs": [],
   "source": [
    "# Base URL for Sephora's skincare - Treatments category\n",
    "baseurl_treatments = \"https://www.sephora.com/shop/facial-treatments?currentPage={}\""
   ]
  },
  {
   "cell_type": "code",
   "execution_count": 12,
   "metadata": {},
   "outputs": [],
   "source": [
    "# Base URL for Sephora's skincare - Lip Balms & Treatments category\n",
    "baseurl_lips = \"https://www.sephora.com/shop/lip-balm-lip-care?currentPage={}\""
   ]
  },
  {
   "cell_type": "code",
   "execution_count": null,
   "metadata": {},
   "outputs": [],
   "source": [
    "# Base URL for Sephora's skincare - Eye Care category\n",
    "baseurl_eyecare = \"https://www.sephora.com/shop/eye-treatment-dark-circle-treatment?currentPage={}\""
   ]
  }
 ],
 "metadata": {
  "kernelspec": {
   "display_name": ".venv",
   "language": "python",
   "name": "python3"
  },
  "language_info": {
   "codemirror_mode": {
    "name": "ipython",
    "version": 3
   },
   "file_extension": ".py",
   "mimetype": "text/x-python",
   "name": "python",
   "nbconvert_exporter": "python",
   "pygments_lexer": "ipython3",
   "version": "3.12.4"
  }
 },
 "nbformat": 4,
 "nbformat_minor": 2
}
